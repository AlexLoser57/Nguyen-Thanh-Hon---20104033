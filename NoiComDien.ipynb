{
  "nbformat": 4,
  "nbformat_minor": 0,
  "metadata": {
    "colab": {
      "provenance": [],
      "collapsed_sections": [],
      "authorship_tag": "ABX9TyNYroX7hCggK1bm8pi4baQA",
      "include_colab_link": true
    },
    "kernelspec": {
      "name": "python3",
      "display_name": "Python 3"
    },
    "language_info": {
      "name": "python"
    }
  },
  "cells": [
    {
      "cell_type": "markdown",
      "metadata": {
        "id": "view-in-github",
        "colab_type": "text"
      },
      "source": [
        "<a href=\"https://colab.research.google.com/github/AlexLoser57/Nguyen-Thanh-Hon---20104033/blob/main/NoiComDien.ipynb\" target=\"_parent\"><img src=\"https://colab.research.google.com/assets/colab-badge.svg\" alt=\"Open In Colab\"/></a>"
      ]
    },
    {
      "cell_type": "code",
      "execution_count": null,
      "metadata": {
        "id": "DRqPMZZwCrIL",
        "colab": {
          "base_uri": "https://localhost:8080/",
          "height": 398
        },
        "outputId": "7d0e72fb-f9fb-4a5a-ed67-776dd43dcb16"
      },
      "outputs": [
        {
          "output_type": "error",
          "ename": "ModuleNotFoundError",
          "evalue": "ignored",
          "traceback": [
            "\u001b[0;31m---------------------------------------------------------------------------\u001b[0m",
            "\u001b[0;31mModuleNotFoundError\u001b[0m                       Traceback (most recent call last)",
            "\u001b[0;32m<ipython-input-1-e7ff47176e2d>\u001b[0m in \u001b[0;36m<module>\u001b[0;34m\u001b[0m\n\u001b[0;32m----> 1\u001b[0;31m \u001b[0;32mimport\u001b[0m \u001b[0mskfuzzy\u001b[0m \u001b[0;32mas\u001b[0m \u001b[0mfuzz\u001b[0m\u001b[0;34m\u001b[0m\u001b[0;34m\u001b[0m\u001b[0m\n\u001b[0m\u001b[1;32m      2\u001b[0m \u001b[0;32mimport\u001b[0m \u001b[0mnumpy\u001b[0m \u001b[0;32mas\u001b[0m \u001b[0mnp\u001b[0m\u001b[0;34m\u001b[0m\u001b[0;34m\u001b[0m\u001b[0m\n\u001b[1;32m      3\u001b[0m \u001b[0;32mfrom\u001b[0m \u001b[0mskfuzzy\u001b[0m \u001b[0;32mimport\u001b[0m \u001b[0mcontrol\u001b[0m \u001b[0;32mas\u001b[0m \u001b[0mcl\u001b[0m\u001b[0;34m\u001b[0m\u001b[0;34m\u001b[0m\u001b[0m\n\u001b[1;32m      4\u001b[0m \u001b[0;32mimport\u001b[0m \u001b[0mmatplotlib\u001b[0m\u001b[0;34m.\u001b[0m\u001b[0mpyplot\u001b[0m \u001b[0;32mas\u001b[0m \u001b[0mplt\u001b[0m\u001b[0;34m\u001b[0m\u001b[0;34m\u001b[0m\u001b[0m\n\u001b[1;32m      5\u001b[0m \u001b[0;34m\u001b[0m\u001b[0m\n",
            "\u001b[0;31mModuleNotFoundError\u001b[0m: No module named 'skfuzzy'",
            "",
            "\u001b[0;31m---------------------------------------------------------------------------\u001b[0;32m\nNOTE: If your import is failing due to a missing package, you can\nmanually install dependencies using either !pip or !apt.\n\nTo view examples of installing some common dependencies, click the\n\"Open Examples\" button below.\n\u001b[0;31m---------------------------------------------------------------------------\u001b[0m\n"
          ],
          "errorDetails": {
            "actions": [
              {
                "action": "open_url",
                "actionText": "Open Examples",
                "url": "/notebooks/snippets/importing_libraries.ipynb"
              }
            ]
          }
        }
      ],
      "source": [
        "import skfuzzy as fuzz\n",
        "import numpy as np\n",
        "from skfuzzy import control as cl\n",
        "import matplotlib.pyplot as plt\n",
        "\n",
        "luong_gao = int(input('Nhập lượng gạo: '))\n",
        "thoi_gian = int(input('Nhập thời gian nấu: '))\n",
        "\n",
        "\n",
        "rice = cl.Antecedent(np.arange(100,1100,100),'rice')\n",
        "time = cl.Antecedent(np.arange(10,130,10),'time')\n",
        "power = cl.Consequent(np.arange(0,110,10),'power')\n",
        "\n",
        "rice['Rất ít'] = fuzz.trimf(rice.universe,[100,100,200])\n",
        "rice['Ít'] = fuzz.trimf(rice.universe,[100,200,400])\n",
        "rice['Trung bình'] = fuzz.trimf(rice.universe,[200,500,800])\n",
        "rice['Nhiều'] = fuzz.trimf(rice.universe,[600,800,1000])\n",
        "rice['Rất nhiều'] = fuzz.trimf(rice.universe,[800,1000,1000])\n",
        "\n",
        "time['Ít'] = fuzz.trimf(time.universe,[10,10,20])\n",
        "time['Rất ít'] = fuzz.trimf(time.universe,[10,20,30])\n",
        "time['Trung bình'] = fuzz.trimf(time.universe,[20,60,100])\n",
        "time['Nhiều'] = fuzz.trimf(time.universe,[80,100,120])\n",
        "time['Rất nhiều'] = fuzz.trimf(time.universe,[100,120,120])\n",
        "\n",
        "power['Rất ít'] = fuzz.trimf(power.universe,[0,0,20])\n",
        "power['Ít'] = fuzz.trimf(power.universe,[0,20,40])\n",
        "power['Trung bình'] = fuzz.trimf(power.universe,[40,60,80])\n",
        "power['Nhiều '] = fuzz.trimf(power.universe,[80,90,100])\n",
        "power['Rất nhiều'] = fuzz.trimf(power.universe,[90,100,100])\n",
        "\n",
        "names_rice = ['Rất ít', 'Ít', 'Trung bình', 'Nhiều', 'Rất nhiều']\n",
        "names_time = ['Rất ít', 'Ít', 'Trung bình', 'Nhiều', 'Rất nhiều']\n",
        "names_heating = ['Rất ít', 'Ít', 'Trung bình', 'Nhiều', 'Rất nhiều']\n",
        "\n",
        "rice.automf(names = names_rice)\n",
        "time.automf(names = names_time)\n",
        "power.automf(names = names_heating)\n",
        "\n",
        "rule1 = cl.Rule(rice['Rất ít'] & time['Rất ít'], power['Nhiều'])\n",
        "rule2 = cl.Rule(rice['Rất ít'] & time['Ít'], power['Nhiều'])\n",
        "rule3 = cl.Rule(rice['Rất ít'] & time['Trung bình'], power['Trung bình'])\n",
        "rule4 = cl.Rule(rice['Rất ít'] & time['Nhiều'], power['Ít'])\n",
        "rule5 = cl.Rule(rice['Rất ít'] & time['Rất nhiều'], power['Rất ít'])\n",
        "\n",
        "rule6 = cl.Rule(rice['Ít'] & time['Rất ít'], power['Nhiều'])\n",
        "rule7 = cl.Rule(rice['Ít'] & time['Ít'], power['Nhiều'])\n",
        "rule8 = cl.Rule(rice['Ít'] & time['Trung bình'], power['Trung bình'])\n",
        "rule9 = cl.Rule(rice['Ít'] & time['Nhiều'], power['Ít'])\n",
        "rule10 = cl.Rule(rice['Ít'] & time['Rất nhiều'], power['Rất ít'])\n",
        "\n",
        "rule11 = cl.Rule(rice['Trung bình'] & time['Rất ít'], power['Rất nhiều'])\n",
        "rule12 = cl.Rule(rice['Trung bình'] & time['Ít'], power['Nhiều'])\n",
        "rule13 = cl.Rule(rice['Trung bình'] & time['Trung bình'], power['Trung bình'])\n",
        "rule14 = cl.Rule(rice['Trung bình'] & time['Nhiều'], power['Ít'])\n",
        "rule15 = cl.Rule(rice['Trung bình'] & time['Rất nhiều'], power['Rất ít'])\n",
        "\n",
        "rule16 = cl.Rule(rice['Nhiều'] & time['Rất ít'], power['Rất nhiều'])\n",
        "rule17 = cl.Rule(rice['Nhiều'] & time['Ít'], power['Rất nhiều'])\n",
        "rule18 = cl.Rule(rice['Nhiều'] & time['Trung bình'], power['Trung bình'])\n",
        "rule19 = cl.Rule(rice['Nhiều'] & time['Nhiều'], power['Ít'])\n",
        "rule20 = cl.Rule(rice['Nhiều'] & time['Rất nhiều'], power['Rất ít'])\n",
        "\n",
        "rule21 = cl.Rule(rice['Rất nhiều'] & time['Rất ít'], power['Rất nhiều'])\n",
        "rule22 = cl.Rule(rice['Rất nhiều'] & time['Ít'], power['Rất nhiều'])\n",
        "rule23 = cl.Rule(rice['Rất nhiều'] & time['Trung bình'], power['Nhiều'])\n",
        "rule24 = cl.Rule(rice['Rất nhiều'] & time['Nhiều'], power['Trung bình'])\n",
        "rule25 = cl.Rule(rice['Rất nhiều'] & time['Rất nhiều'], power['Ít'])\n",
        "\n",
        "system_cl = cl.ControlSystem(rules = [rule1,rule2,rule3,rule4,rule5,rule6,rule7,rule8,rule9,rule10,rule11,rule12,rule13,rule14,rule15, rule16, rule17, rule18, rule19, rule20, rule21, rule22, rule23, rule24, rule25])\n",
        "system = cl.ControlSystemSimulation(system_cl)\n",
        "system.input['rice']=luong_gao\n",
        "system.input['time']=thoi_gian\n",
        "system.compute()\n",
        "print('Công suất cần thiết là : ' + \"{:.2f}\".format(system.output['power'])+'%')\n",
        "power.view(sim = system)\n",
        "\n",
        "power.view()"
      ]
    },
    {
      "cell_type": "code",
      "source": [],
      "metadata": {
        "id": "x06WYmhuaJYl"
      },
      "execution_count": null,
      "outputs": []
    },
    {
      "cell_type": "code",
      "source": [],
      "metadata": {
        "id": "_4A3wsyDaJom"
      },
      "execution_count": null,
      "outputs": []
    }
  ]
}
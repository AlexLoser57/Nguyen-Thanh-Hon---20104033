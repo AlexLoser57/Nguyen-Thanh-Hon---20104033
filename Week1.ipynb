{
  "nbformat": 4,
  "nbformat_minor": 0,
  "metadata": {
    "colab": {
      "provenance": [],
      "collapsed_sections": [],
      "authorship_tag": "ABX9TyO2dU60cSf8i1j7MAAf877D",
      "include_colab_link": true
    },
    "kernelspec": {
      "name": "python3",
      "display_name": "Python 3"
    },
    "language_info": {
      "name": "python"
    }
  },
  "cells": [
    {
      "cell_type": "markdown",
      "metadata": {
        "id": "view-in-github",
        "colab_type": "text"
      },
      "source": [
        "<a href=\"https://colab.research.google.com/github/AlexLoser57/Nguyen-Thanh-Hon---20104033/blob/main/Week1.ipynb\" target=\"_parent\"><img src=\"https://colab.research.google.com/assets/colab-badge.svg\" alt=\"Open In Colab\"/></a>"
      ]
    },
    {
      "cell_type": "code",
      "execution_count": null,
      "metadata": {
        "id": "xAs2N8jej39k"
      },
      "outputs": [],
      "source": [
        "with open ('text.txt', mode = 'w') as accounts:\n",
        "  accounts.write('1 Nguyen Thanh Hon 8.0 /n')\n",
        "  accounts.write('2 Le Hoang Kha 8.0 /n')"
      ]
    },
    {
      "cell_type": "code",
      "source": [
        "with open ('text.txt', mode = 'w') as accounts:\n",
        "  print('7 00  Nguyen Thanh Hon', file = accounts)\n",
        "  print('7 01  Nguyen Van B', file = accounts)"
      ],
      "metadata": {
        "id": "j1gy4ezhkd9a"
      },
      "execution_count": null,
      "outputs": []
    },
    {
      "cell_type": "code",
      "source": [
        "with open ('text.txt', mode = 'r') as accounts:\n",
        "  print(f'{\"name\":<20}{\"score\":>20}')\n",
        "  for record in accounts:\n",
        "    name,score = record.split()\n",
        "    print(f'{name:<20}{score:<20}')\n",
        "\n"
      ],
      "metadata": {
        "id": "w72p2wsmmfC7"
      },
      "execution_count": null,
      "outputs": []
    },
    {
      "cell_type": "code",
      "source": [
        "from google.colab import drive\n",
        "drive.mount('/content/drive')"
      ],
      "metadata": {
        "id": "Gc6nie9tt-_N"
      },
      "execution_count": null,
      "outputs": []
    },
    {
      "cell_type": "code",
      "source": [
        "import pandas as pd\n",
        "url = 'DanhSach.csv'\n",
        "dataframe = pd.read_csv(url)\n",
        "dataframe.head(10)"
      ],
      "metadata": {
        "id": "P_MLonHFrW7R"
      },
      "execution_count": null,
      "outputs": []
    },
    {
      "cell_type": "code",
      "source": [
        "import pandas as pd\n",
        "dataframe = pd.DataFrame()\n",
        "dataframe['name'] = ['Nguyen Thanh Hon','Le Thi B']\n",
        "dataframe['idstudent'] = [20104033, 20104044]\n",
        "dataframe['score'] = [8, 9]\n",
        "dataframe"
      ],
      "metadata": {
        "id": "s7Wsx1nDvB8z"
      },
      "execution_count": null,
      "outputs": []
    },
    {
      "cell_type": "code",
      "source": [
        "import pandas as pd\n",
        "url = 'list.csv'\n",
        "dataframe = pd.read_csv(url)\n",
        "dataframe.head(10)\n",
        "dataframe.iloc[0:5]\n",
        "dataframe = dataframe.set_index(dataframe['Faculty'])\n",
        "dataframe.loc['CKM']\n",
        "dataframe[(dataframe['Faculty']=='CKM') | (dataframe['Year'] == 20)]\n",
        "dataframe['Faculty'].unique()\n",
        "dataframe['Faculty'].value_counts()\n",
        "dataframe = dataframe.set_index(dataframe['Score'])\n",
        "dataframe.loc[dataframe['Score'].min()]\n",
        "dataframe.drop('Score', axis = 1).head(10)\n",
        "dataframe.groupby(['Year','Faculty']).head()\n",
        "\n"
      ],
      "metadata": {
        "colab": {
          "base_uri": "https://localhost:8080/",
          "height": 394
        },
        "id": "2sLHc5vOyBzi",
        "outputId": "df97e687-7feb-43e5-f0d2-955fc965a06c"
      },
      "execution_count": null,
      "outputs": [
        {
          "output_type": "execute_result",
          "data": {
            "text/plain": [
              "       No  StudentID      FullName  Score  Year Faculty\n",
              "Score                                                  \n",
              "9       1   20104033  Nguyen Van A      9    20     CKM\n",
              "8       2   20104034  Nguyen Van B      8    19     CLC\n",
              "3       3   20104035  Nguyen Van C      3    18     CLC\n",
              "5       4   20104036  Nguyen Van D      5    21     CKM\n",
              "6       5   20104037  Nguyen Van E      6    20     CKM\n",
              "5       6   20104038  Nguyen Van F      5    19     CKM\n",
              "2       7   20104039  Nguyen Van G      2    16     CLC\n",
              "2       8   20104040  Nguyen Van A      2    17     CKM\n",
              "8       9   20104041  Nguyen Van M      8    18     CLC\n",
              "9      10   20104042  Nguyen Van N      9    20     CKM"
            ],
            "text/html": [
              "\n",
              "  <div id=\"df-bf9663c0-b254-4685-87d2-b0f6e26b4d40\">\n",
              "    <div class=\"colab-df-container\">\n",
              "      <div>\n",
              "<style scoped>\n",
              "    .dataframe tbody tr th:only-of-type {\n",
              "        vertical-align: middle;\n",
              "    }\n",
              "\n",
              "    .dataframe tbody tr th {\n",
              "        vertical-align: top;\n",
              "    }\n",
              "\n",
              "    .dataframe thead th {\n",
              "        text-align: right;\n",
              "    }\n",
              "</style>\n",
              "<table border=\"1\" class=\"dataframe\">\n",
              "  <thead>\n",
              "    <tr style=\"text-align: right;\">\n",
              "      <th></th>\n",
              "      <th>No</th>\n",
              "      <th>StudentID</th>\n",
              "      <th>FullName</th>\n",
              "      <th>Score</th>\n",
              "      <th>Year</th>\n",
              "      <th>Faculty</th>\n",
              "    </tr>\n",
              "    <tr>\n",
              "      <th>Score</th>\n",
              "      <th></th>\n",
              "      <th></th>\n",
              "      <th></th>\n",
              "      <th></th>\n",
              "      <th></th>\n",
              "      <th></th>\n",
              "    </tr>\n",
              "  </thead>\n",
              "  <tbody>\n",
              "    <tr>\n",
              "      <th>9</th>\n",
              "      <td>1</td>\n",
              "      <td>20104033</td>\n",
              "      <td>Nguyen Van A</td>\n",
              "      <td>9</td>\n",
              "      <td>20</td>\n",
              "      <td>CKM</td>\n",
              "    </tr>\n",
              "    <tr>\n",
              "      <th>8</th>\n",
              "      <td>2</td>\n",
              "      <td>20104034</td>\n",
              "      <td>Nguyen Van B</td>\n",
              "      <td>8</td>\n",
              "      <td>19</td>\n",
              "      <td>CLC</td>\n",
              "    </tr>\n",
              "    <tr>\n",
              "      <th>3</th>\n",
              "      <td>3</td>\n",
              "      <td>20104035</td>\n",
              "      <td>Nguyen Van C</td>\n",
              "      <td>3</td>\n",
              "      <td>18</td>\n",
              "      <td>CLC</td>\n",
              "    </tr>\n",
              "    <tr>\n",
              "      <th>5</th>\n",
              "      <td>4</td>\n",
              "      <td>20104036</td>\n",
              "      <td>Nguyen Van D</td>\n",
              "      <td>5</td>\n",
              "      <td>21</td>\n",
              "      <td>CKM</td>\n",
              "    </tr>\n",
              "    <tr>\n",
              "      <th>6</th>\n",
              "      <td>5</td>\n",
              "      <td>20104037</td>\n",
              "      <td>Nguyen Van E</td>\n",
              "      <td>6</td>\n",
              "      <td>20</td>\n",
              "      <td>CKM</td>\n",
              "    </tr>\n",
              "    <tr>\n",
              "      <th>5</th>\n",
              "      <td>6</td>\n",
              "      <td>20104038</td>\n",
              "      <td>Nguyen Van F</td>\n",
              "      <td>5</td>\n",
              "      <td>19</td>\n",
              "      <td>CKM</td>\n",
              "    </tr>\n",
              "    <tr>\n",
              "      <th>2</th>\n",
              "      <td>7</td>\n",
              "      <td>20104039</td>\n",
              "      <td>Nguyen Van G</td>\n",
              "      <td>2</td>\n",
              "      <td>16</td>\n",
              "      <td>CLC</td>\n",
              "    </tr>\n",
              "    <tr>\n",
              "      <th>2</th>\n",
              "      <td>8</td>\n",
              "      <td>20104040</td>\n",
              "      <td>Nguyen Van A</td>\n",
              "      <td>2</td>\n",
              "      <td>17</td>\n",
              "      <td>CKM</td>\n",
              "    </tr>\n",
              "    <tr>\n",
              "      <th>8</th>\n",
              "      <td>9</td>\n",
              "      <td>20104041</td>\n",
              "      <td>Nguyen Van M</td>\n",
              "      <td>8</td>\n",
              "      <td>18</td>\n",
              "      <td>CLC</td>\n",
              "    </tr>\n",
              "    <tr>\n",
              "      <th>9</th>\n",
              "      <td>10</td>\n",
              "      <td>20104042</td>\n",
              "      <td>Nguyen Van N</td>\n",
              "      <td>9</td>\n",
              "      <td>20</td>\n",
              "      <td>CKM</td>\n",
              "    </tr>\n",
              "  </tbody>\n",
              "</table>\n",
              "</div>\n",
              "      <button class=\"colab-df-convert\" onclick=\"convertToInteractive('df-bf9663c0-b254-4685-87d2-b0f6e26b4d40')\"\n",
              "              title=\"Convert this dataframe to an interactive table.\"\n",
              "              style=\"display:none;\">\n",
              "        \n",
              "  <svg xmlns=\"http://www.w3.org/2000/svg\" height=\"24px\"viewBox=\"0 0 24 24\"\n",
              "       width=\"24px\">\n",
              "    <path d=\"M0 0h24v24H0V0z\" fill=\"none\"/>\n",
              "    <path d=\"M18.56 5.44l.94 2.06.94-2.06 2.06-.94-2.06-.94-.94-2.06-.94 2.06-2.06.94zm-11 1L8.5 8.5l.94-2.06 2.06-.94-2.06-.94L8.5 2.5l-.94 2.06-2.06.94zm10 10l.94 2.06.94-2.06 2.06-.94-2.06-.94-.94-2.06-.94 2.06-2.06.94z\"/><path d=\"M17.41 7.96l-1.37-1.37c-.4-.4-.92-.59-1.43-.59-.52 0-1.04.2-1.43.59L10.3 9.45l-7.72 7.72c-.78.78-.78 2.05 0 2.83L4 21.41c.39.39.9.59 1.41.59.51 0 1.02-.2 1.41-.59l7.78-7.78 2.81-2.81c.8-.78.8-2.07 0-2.86zM5.41 20L4 18.59l7.72-7.72 1.47 1.35L5.41 20z\"/>\n",
              "  </svg>\n",
              "      </button>\n",
              "      \n",
              "  <style>\n",
              "    .colab-df-container {\n",
              "      display:flex;\n",
              "      flex-wrap:wrap;\n",
              "      gap: 12px;\n",
              "    }\n",
              "\n",
              "    .colab-df-convert {\n",
              "      background-color: #E8F0FE;\n",
              "      border: none;\n",
              "      border-radius: 50%;\n",
              "      cursor: pointer;\n",
              "      display: none;\n",
              "      fill: #1967D2;\n",
              "      height: 32px;\n",
              "      padding: 0 0 0 0;\n",
              "      width: 32px;\n",
              "    }\n",
              "\n",
              "    .colab-df-convert:hover {\n",
              "      background-color: #E2EBFA;\n",
              "      box-shadow: 0px 1px 2px rgba(60, 64, 67, 0.3), 0px 1px 3px 1px rgba(60, 64, 67, 0.15);\n",
              "      fill: #174EA6;\n",
              "    }\n",
              "\n",
              "    [theme=dark] .colab-df-convert {\n",
              "      background-color: #3B4455;\n",
              "      fill: #D2E3FC;\n",
              "    }\n",
              "\n",
              "    [theme=dark] .colab-df-convert:hover {\n",
              "      background-color: #434B5C;\n",
              "      box-shadow: 0px 1px 3px 1px rgba(0, 0, 0, 0.15);\n",
              "      filter: drop-shadow(0px 1px 2px rgba(0, 0, 0, 0.3));\n",
              "      fill: #FFFFFF;\n",
              "    }\n",
              "  </style>\n",
              "\n",
              "      <script>\n",
              "        const buttonEl =\n",
              "          document.querySelector('#df-bf9663c0-b254-4685-87d2-b0f6e26b4d40 button.colab-df-convert');\n",
              "        buttonEl.style.display =\n",
              "          google.colab.kernel.accessAllowed ? 'block' : 'none';\n",
              "\n",
              "        async function convertToInteractive(key) {\n",
              "          const element = document.querySelector('#df-bf9663c0-b254-4685-87d2-b0f6e26b4d40');\n",
              "          const dataTable =\n",
              "            await google.colab.kernel.invokeFunction('convertToInteractive',\n",
              "                                                     [key], {});\n",
              "          if (!dataTable) return;\n",
              "\n",
              "          const docLinkHtml = 'Like what you see? Visit the ' +\n",
              "            '<a target=\"_blank\" href=https://colab.research.google.com/notebooks/data_table.ipynb>data table notebook</a>'\n",
              "            + ' to learn more about interactive tables.';\n",
              "          element.innerHTML = '';\n",
              "          dataTable['output_type'] = 'display_data';\n",
              "          await google.colab.output.renderOutput(dataTable, element);\n",
              "          const docLink = document.createElement('div');\n",
              "          docLink.innerHTML = docLinkHtml;\n",
              "          element.appendChild(docLink);\n",
              "        }\n",
              "      </script>\n",
              "    </div>\n",
              "  </div>\n",
              "  "
            ]
          },
          "metadata": {},
          "execution_count": 6
        }
      ]
    },
    {
      "cell_type": "code",
      "source": [],
      "metadata": {
        "id": "mbH441mwyctZ"
      },
      "execution_count": null,
      "outputs": []
    },
    {
      "cell_type": "code",
      "source": [
        "import pandas as pd\n",
        "url = 'http://winterolympicsmedals.com/medals.csv'\n",
        "data = pd.read_csv(url)\n",
        "usasliver = data[(data['NOC']=='USA') | (data['Medal']=='Sliver') ]\n",
        "print(usasliver)\n",
        "data.groupby('NOC').mean()"
      ],
      "metadata": {
        "id": "MOp44YsU8mgu"
      },
      "execution_count": null,
      "outputs": []
    },
    {
      "cell_type": "code",
      "source": [
        "from openpyxl import Workbook\n",
        "wb = Workbook()\n",
        "ws = wb.active\n",
        "ws['A1'] = 'Nguyen Van A'\n",
        "ws['B1'] = '20104033'\n",
        "ws['A2'] = 'Nguyen Van B'\n",
        "ws['B2'] = '20104034'\n",
        "\n",
        "wb.save(\"sample.xlsx\")"
      ],
      "metadata": {
        "id": "8ZlzK7DU-de7"
      },
      "execution_count": null,
      "outputs": []
    },
    {
      "cell_type": "code",
      "source": [
        "import openpyxl\n",
        "wb = openpyxl.load_workbook('sample.xlsx')\n",
        "sheet = wb.active\n",
        "\n",
        "t1 = sheet['A1']\n",
        "t2 = sheet['B1']\n",
        "t3 = sheet.cell( row = 2 , column = 1)\n",
        "t4 = sheet.cell( row = 2 , column = 2)\n",
        "\n",
        "print(t1.value, t2.value)\n",
        "print(t3.value, t4.value)"
      ],
      "metadata": {
        "colab": {
          "base_uri": "https://localhost:8080/"
        },
        "id": "jPDm_rT3lrs7",
        "outputId": "e581a7d7-1295-4198-e728-d9eeeea3cbd9"
      },
      "execution_count": null,
      "outputs": [
        {
          "output_type": "stream",
          "name": "stdout",
          "text": [
            "Nguyen Van A 20104033\n",
            "Nguyen Van B 20104034\n"
          ]
        }
      ]
    },
    {
      "cell_type": "code",
      "source": [],
      "metadata": {
        "id": "fWaEvg5Z0JyF"
      },
      "execution_count": null,
      "outputs": []
    },
    {
      "cell_type": "code",
      "source": [
        "import openpyxl\n",
        "\n",
        "my_wb = openpyxl.Workbook()\n",
        "my_sheet = my_wb.active\n",
        "\n",
        "c1 = my_sheet.cell(row = 1, column = 1)\n",
        "c1.value = 'Dang Tri Dung'\n",
        "\n",
        "c2 = my_sheet.cell(row = 1, column = 2)\n",
        "c2.value = 'Nguyen Thanh Hon'\n",
        "\n",
        "c3 = my_sheet['A2']\n",
        "c3.value = 'Ulsan'\n",
        "\n",
        "c4 = my_sheet['B2']\n",
        "c4.value = 'Ganova'\n",
        "\n",
        "my_wb.save('Sample2.xlsx')"
      ],
      "metadata": {
        "id": "3TIU-3CbrtoN"
      },
      "execution_count": null,
      "outputs": []
    },
    {
      "cell_type": "code",
      "source": [
        "import openpyxl\n",
        "my_wb = openpyxl.Workbook()\n",
        "my_sheet = my_wb.active\n",
        "my_wb.create_sheet(index = 1, title = 'CTD')\n",
        "my_wb.save('Addsheets.xlsx')"
      ],
      "metadata": {
        "id": "6KUfOhd-vYZa"
      },
      "execution_count": null,
      "outputs": []
    },
    {
      "cell_type": "code",
      "source": [
        "import openpyxl\n",
        "my_path = 'Sample2.xlsx'\n",
        "my_wb_obj = openpyxl.load_workbook(my_path)\n",
        "my_sheet_obj = my_wb_obj.active\n",
        "print(my_sheet_obj.max_row)"
      ],
      "metadata": {
        "colab": {
          "base_uri": "https://localhost:8080/"
        },
        "id": "wDo7RHRs1So7",
        "outputId": "b973ad53-cfba-4bfa-de28-7a74a164757a"
      },
      "execution_count": null,
      "outputs": [
        {
          "output_type": "stream",
          "name": "stdout",
          "text": [
            "2\n"
          ]
        }
      ]
    },
    {
      "cell_type": "code",
      "source": [
        "import openpyxl\n",
        "my_path = 'Sample2.xlsx'\n",
        "my_wb_obj = openpyxl.load_workbook(my_path)\n",
        "my_sheet_obj = my_wb_obj.active\n",
        "print(my_sheet_obj.max_column)"
      ],
      "metadata": {
        "colab": {
          "base_uri": "https://localhost:8080/"
        },
        "id": "zYS121cO18TM",
        "outputId": "6decc946-3117-4b33-ec49-00967996aa4d"
      },
      "execution_count": null,
      "outputs": [
        {
          "output_type": "stream",
          "name": "stdout",
          "text": [
            "2\n"
          ]
        }
      ]
    },
    {
      "cell_type": "code",
      "source": [
        "import openpyxl\n",
        "my_path = 'Sample2.xlsx'\n",
        "my_wb_obj = openpyxl.load_workbook(my_path)\n",
        "my_sheet_obj = my_wb_obj.active\n",
        "my_max_cl = my_sheet_obj.max_column\n",
        "for i in range (1,my_max_cl + 1):\n",
        "  my_cell_obj = my_sheet_obj.cell(row = 1, column = i)\n",
        "  print(my_cell_obj.value)"
      ],
      "metadata": {
        "colab": {
          "base_uri": "https://localhost:8080/"
        },
        "id": "-Ih0hMcL2K-h",
        "outputId": "7fd566f4-678d-4f9e-e959-77e80e0e0bd8"
      },
      "execution_count": null,
      "outputs": [
        {
          "output_type": "stream",
          "name": "stdout",
          "text": [
            "Dang Tri Dung\n",
            "Nguyen Thanh Hon\n"
          ]
        }
      ]
    },
    {
      "cell_type": "code",
      "source": [
        "import openpyxl\n",
        "my_path = 'Sample2.xlsx'\n",
        "my_wb_obj = openpyxl.load_workbook(my_path)\n",
        "my_sheet_obj = my_wb_obj.active\n",
        "my_max_cl = my_sheet_obj.max_column\n",
        "for i in range (1,my_max_cl + 1):\n",
        "  my_cell_obj = my_sheet_obj.cell(row = 2, column = i)\n",
        "  print(my_cell_obj.value)"
      ],
      "metadata": {
        "colab": {
          "base_uri": "https://localhost:8080/"
        },
        "id": "mxn97St93s0k",
        "outputId": "6ace776c-fc8e-4d8b-e7c3-c758c5b0ef3c"
      },
      "execution_count": null,
      "outputs": [
        {
          "output_type": "stream",
          "name": "stdout",
          "text": [
            "Ulsan\n",
            "Ganova\n"
          ]
        }
      ]
    },
    {
      "cell_type": "code",
      "source": [
        "import openpyxl\n",
        "my_path = 'Sample2.xlsx'\n",
        "my_wb_obj = openpyxl.load_workbook(my_path)\n",
        "my_sheet_obj = my_wb_obj.active\n",
        "my_max_row = my_sheet_obj.max_row\n",
        "for i in range (1,my_max_row + 1):\n",
        "  my_cell_obj = my_sheet_obj.cell(row = i, column = 1)\n",
        "  print(my_cell_obj.value)"
      ],
      "metadata": {
        "colab": {
          "base_uri": "https://localhost:8080/"
        },
        "id": "JKqIx3Bb3Mam",
        "outputId": "85858abd-7f72-43f0-a8f3-5ecac95b3352"
      },
      "execution_count": null,
      "outputs": [
        {
          "output_type": "stream",
          "name": "stdout",
          "text": [
            "Dang Tri Dung\n",
            "Ulsan\n"
          ]
        }
      ]
    },
    {
      "cell_type": "code",
      "source": [
        "import matplotlib.pyplot as plt\n",
        "import numpy as np\n",
        "x = np.arange(1000)\n",
        "y = np.sqrt(x)\n",
        "plt.plot(x,y)\n",
        "plt.show\n",
        "#------------------------------------------"
      ],
      "metadata": {
        "colab": {
          "base_uri": "https://localhost:8080/",
          "height": 284
        },
        "id": "gOl0fTmz4WBj",
        "outputId": "b5f7bc20-bdcb-4cf0-8248-0ea3c890529c"
      },
      "execution_count": null,
      "outputs": [
        {
          "output_type": "execute_result",
          "data": {
            "text/plain": [
              "<function matplotlib.pyplot.show(*args, **kw)>"
            ]
          },
          "metadata": {},
          "execution_count": 48
        },
        {
          "output_type": "display_data",
          "data": {
            "text/plain": [
              "<Figure size 432x288 with 1 Axes>"
            ],
            "image/png": "[encoded data removed]"
          },
          "metadata": {
            "needs_background": "light"
          }
        }
      ]
    },
    {
      "cell_type": "code",
      "source": [
        "import matplotlib.pyplot as plt\n",
        "import numpy as np\n",
        "x = np.arange(10)\n",
        "y = x + 1\n",
        "plt.plot(x,y,'o--')\n",
        "plt.plot(x,-y, 'o-')\n",
        "plt.title('y =x and y = -x')\n",
        "plt.xlabel('x')\n",
        "plt.ylabel('y')\n",
        "plt.axis('off')\n",
        "plt.show"
      ],
      "metadata": {
        "colab": {
          "base_uri": "https://localhost:8080/",
          "height": 283
        },
        "id": "gx0WrlO86btX",
        "outputId": "0968937f-d1dc-4cb2-b69d-7c6215c6f050"
      },
      "execution_count": null,
      "outputs": [
        {
          "output_type": "execute_result",
          "data": {
            "text/plain": [
              "<function matplotlib.pyplot.show(*args, **kw)>"
            ]
          },
          "metadata": {},
          "execution_count": 51
        },
        {
          "output_type": "display_data",
          "data": {
            "text/plain": [
              "<Figure size 432x288 with 1 Axes>"
            ],
            "image/png": "[encoded data removed]"
          },
          "metadata": {
            "needs_background": "light"
          }
        }
      ]
    },
    {
      "cell_type": "code",
      "source": [
        "import matplotlib.pyplot as plt\n",
        "import numpy as np\n",
        "N = 16\n",
        "x = np.linspace(0,15,16)\n",
        "y = x\n",
        "plt.plot(x,y,'o--')\n",
        "plt.show"
      ],
      "metadata": {
        "colab": {
          "base_uri": "https://localhost:8080/",
          "height": 284
        },
        "id": "SL173wY-6GXR",
        "outputId": "0a97370c-f1ce-435f-a26e-be113a63e24e"
      },
      "execution_count": null,
      "outputs": [
        {
          "output_type": "execute_result",
          "data": {
            "text/plain": [
              "<function matplotlib.pyplot.show(*args, **kw)>"
            ]
          },
          "metadata": {},
          "execution_count": 53
        },
        {
          "output_type": "display_data",
          "data": {
            "text/plain": [
              "<Figure size 432x288 with 1 Axes>"
            ],
            "image/png": "[encoded data removed]"
          },
          "metadata": {
            "needs_background": "light"
          }
        }
      ]
    },
    {
      "cell_type": "code",
      "source": [
        "import matplotlib.pyplot as plt\n",
        "import numpy as np\n",
        "N = 16\n",
        "x = np.linspace(0,15,16)\n",
        "y = np.logspace(0.1,2,16)\n",
        "plt.plot(x,y,'--o')"
      ],
      "metadata": {
        "colab": {
          "base_uri": "https://localhost:8080/",
          "height": 284
        },
        "id": "jvHQwVfX72qC",
        "outputId": "b140ef92-c880-4422-abb8-0021022abfcf"
      },
      "execution_count": null,
      "outputs": [
        {
          "output_type": "execute_result",
          "data": {
            "text/plain": [
              "[<matplotlib.lines.Line2D at 0x7f3168e762d0>]"
            ]
          },
          "metadata": {},
          "execution_count": 54
        },
        {
          "output_type": "display_data",
          "data": {
            "text/plain": [
              "<Figure size 432x288 with 1 Axes>"
            ],
            "image/png": "[encoded data removed]"
          },
          "metadata": {
            "needs_background": "light"
          }
        }
      ]
    },
    {
      "cell_type": "code",
      "source": [
        "import matplotlib.pyplot as plt\n",
        "x = [4, 5, 3, 1, 6, 7]\n",
        "plt.plot(x)\n",
        "plt.show"
      ],
      "metadata": {
        "colab": {
          "base_uri": "https://localhost:8080/",
          "height": 284
        },
        "id": "rh_3cL6S8OsJ",
        "outputId": "8d3c4038-f0ae-4c2f-cbbf-0fa951f4e0ee"
      },
      "execution_count": null,
      "outputs": [
        {
          "output_type": "execute_result",
          "data": {
            "text/plain": [
              "<function matplotlib.pyplot.show(*args, **kw)>"
            ]
          },
          "metadata": {},
          "execution_count": 55
        },
        {
          "output_type": "display_data",
          "data": {
            "text/plain": [
              "<Figure size 432x288 with 1 Axes>"
            ],
            "image/png": "[encoded data removed]"
          },
          "metadata": {
            "needs_background": "light"
          }
        }
      ]
    },
    {
      "cell_type": "code",
      "source": [
        "import matplotlib.pyplot as plt\n",
        "x = np.arange(25)\n",
        "plt.plot(x)\n",
        "plt.show"
      ],
      "metadata": {
        "colab": {
          "base_uri": "https://localhost:8080/",
          "height": 287
        },
        "id": "E2j6tpW08jxJ",
        "outputId": "6153c16f-3d81-4c0f-aaf4-a5fd76965d01"
      },
      "execution_count": null,
      "outputs": [
        {
          "output_type": "execute_result",
          "data": {
            "text/plain": [
              "<function matplotlib.pyplot.show(*args, **kw)>"
            ]
          },
          "metadata": {},
          "execution_count": 56
        },
        {
          "output_type": "display_data",
          "data": {
            "text/plain": [
              "<Figure size 432x288 with 1 Axes>"
            ],
            "image/png": "[encoded data removed]"
          },
          "metadata": {
            "needs_background": "light"
          }
        }
      ]
    },
    {
      "cell_type": "code",
      "source": [
        "import matplotlib.pyplot as plt\n",
        "x = np.arange(25)\n",
        "plt.plot(x,x**3+1,'--o')\n",
        "plt.show"
      ],
      "metadata": {
        "colab": {
          "base_uri": "https://localhost:8080/",
          "height": 284
        },
        "id": "qdZNo12z9WVc",
        "outputId": "b83928d0-7266-4212-80f1-494613952b9c"
      },
      "execution_count": null,
      "outputs": [
        {
          "output_type": "execute_result",
          "data": {
            "text/plain": [
              "<function matplotlib.pyplot.show(*args, **kw)>"
            ]
          },
          "metadata": {},
          "execution_count": 57
        },
        {
          "output_type": "display_data",
          "data": {
            "text/plain": [
              "<Figure size 432x288 with 1 Axes>"
            ],
            "image/png": "[encoded data removed]"
          },
          "metadata": {
            "needs_background": "light"
          }
        }
      ]
    },
    {
      "cell_type": "code",
      "source": [
        "import matplotlib.pyplot as plt\n",
        "x = np.arange(7)\n",
        "plt.plot(x, -x**2 + 1,'--o')\n",
        "plt.plot(x, -x**3 + 1,'--o')\n",
        "plt.plot(x, -2*x + 1,'--o')\n",
        "plt.plot(x, -2**x + 1,'--^')\n",
        "plt.grid('on')\n",
        "plt.savefig('Dothi.png')\n",
        "plt.show"
      ],
      "metadata": {
        "colab": {
          "base_uri": "https://localhost:8080/",
          "height": 283
        },
        "id": "C0Whes_z9wwR",
        "outputId": "a142bbcb-dd25-434e-a5dc-df8137d3c16b"
      },
      "execution_count": null,
      "outputs": [
        {
          "output_type": "execute_result",
          "data": {
            "text/plain": [
              "<function matplotlib.pyplot.show(*args, **kw)>"
            ]
          },
          "metadata": {},
          "execution_count": 66
        },
        {
          "output_type": "display_data",
          "data": {
            "text/plain": [
              "<Figure size 432x288 with 1 Axes>"
            ],
            "image/png": "[encoded data removed]"
          },
          "metadata": {
            "needs_background": "light"
          }
        }
      ]
    },
    {
      "cell_type": "code",
      "source": [
        "import matplotlib.pyplot as plt\n",
        "x = np.arange(10000)\n",
        "plt.plot(x,-x**2,x,-x**3)\n",
        "plt.show"
      ],
      "metadata": {
        "colab": {
          "base_uri": "https://localhost:8080/",
          "height": 294
        },
        "id": "NcUXCVBE-MhR",
        "outputId": "84e45b4c-c40f-40e7-a415-847d01685bc2"
      },
      "execution_count": null,
      "outputs": [
        {
          "output_type": "execute_result",
          "data": {
            "text/plain": [
              "<function matplotlib.pyplot.show(*args, **kw)>"
            ]
          },
          "metadata": {},
          "execution_count": 64
        },
        {
          "output_type": "display_data",
          "data": {
            "text/plain": [
              "<Figure size 432x288 with 1 Axes>"
            ],
            "image/png": "[encoded data removed]"
          },
          "metadata": {
            "needs_background": "light"
          }
        }
      ]
    },
    {
      "cell_type": "code",
      "source": [
        "import matplotlib.pyplot as plt\n",
        "import numpy as np\n",
        "x = np.arange(10)\n",
        "plt.subplots_adjust(wspace = 1, hspace=0.3)\n",
        "\n",
        "plt.subplot(2,2,1)\n",
        "plt.plot(x,-x**2,'-*',color = 'green')\n",
        "\n",
        "plt.subplot(2,2,2)\n",
        "plt.plot(x,-x**3,'-^',color = 'red')\n",
        "\n",
        "plt.subplot(2,2,3)\n",
        "plt.plot(x,-2*x,'-o',color = 'blue')\n",
        "\n",
        "plt.subplot(2,2,4)\n",
        "plt.plot(x,-2**x,'-v',color = 'black')\n",
        "\n",
        "plt.plot"
      ],
      "metadata": {
        "colab": {
          "base_uri": "https://localhost:8080/",
          "height": 302
        },
        "id": "bhuLz-FiAI45",
        "outputId": "c692d0b8-5d3a-40d8-af95-ae874a4487e8"
      },
      "execution_count": null,
      "outputs": [
        {
          "output_type": "execute_result",
          "data": {
            "text/plain": [
              "<function matplotlib.pyplot.plot(*args, scalex=True, scaley=True, data=None, **kwargs)>"
            ]
          },
          "metadata": {},
          "execution_count": 82
        },
        {
          "output_type": "display_data",
          "data": {
            "text/plain": [
              "<Figure size 432x288 with 4 Axes>"
            ],
            "image/png": "[encoded data removed]"
          },
          "metadata": {
            "needs_background": "light"
          }
        }
      ]
    },
    {
      "cell_type": "code",
      "source": [
        "import matplotlib.pyplot as plt\n",
        "import numpy as np\n",
        "plt.axis([0,125,0,100])\n",
        "plt.scatter(60, 50, s = 1000,color = 'r',alpha = 1)\n",
        "plt.scatter(80, 50, s = 1000,color = 'r',alpha = 0.5)\n",
        "plt.scatter(100, 10, s = 1000,color = 'r',alpha = 1)\n",
        "plt.show"
      ],
      "metadata": {
        "colab": {
          "base_uri": "https://localhost:8080/",
          "height": 287
        },
        "id": "YF-i_tsxDidw",
        "outputId": "fabd50fa-3010-4d6c-be7d-8981b5322b1b"
      },
      "execution_count": null,
      "outputs": [
        {
          "output_type": "execute_result",
          "data": {
            "text/plain": [
              "<function matplotlib.pyplot.show(*args, **kw)>"
            ]
          },
          "metadata": {},
          "execution_count": 97
        },
        {
          "output_type": "display_data",
          "data": {
            "text/plain": [
              "<Figure size 432x288 with 1 Axes>"
            ],
            "image/png": "[encoded data removed]"
          },
          "metadata": {
            "needs_background": "light"
          }
        }
      ]
    },
    {
      "cell_type": "code",
      "source": [
        "import matplotlib.pyplot as plt\n",
        "import numpy as np\n",
        "\n",
        "plt.axis([0,50,0,50])\n",
        "xa = 30\n",
        "ya = 0\n",
        "xb = 30\n",
        "yb = 30\n",
        "x = np.arange(50)\n",
        "plt.plot(x,x,'--o')\n",
        "plt.arrow(xa,ya,xb-xa,yb-ya,head_length = 4, head_width = 2, color = 'g')\n",
        "plt.plot([xa,xb],[ya,yb],linewidth = 5, color ='r')\n",
        "plt.grid('on')\n",
        "plt.show"
      ],
      "metadata": {
        "colab": {
          "base_uri": "https://localhost:8080/",
          "height": 287
        },
        "id": "6RJCWsONFii-",
        "outputId": "a7488e5d-adbc-4f0c-cc92-730ccdfca464"
      },
      "execution_count": null,
      "outputs": [
        {
          "output_type": "execute_result",
          "data": {
            "text/plain": [
              "<function matplotlib.pyplot.show(*args, **kw)>"
            ]
          },
          "metadata": {},
          "execution_count": 112
        },
        {
          "output_type": "display_data",
          "data": {
            "text/plain": [
              "<Figure size 432x288 with 1 Axes>"
            ],
            "image/png": "[encoded data removed]"
          },
          "metadata": {
            "needs_background": "light"
          }
        }
      ]
    },
    {
      "cell_type": "code",
      "source": [
        "import matplotlib.pyplot as plt\n",
        "import numpy as np\n",
        "\n",
        "x = np.arange(4)\n",
        "y = np.random.rand(4)\n",
        "plt.bar(x,y, color = 'red')\n",
        "plt.show"
      ],
      "metadata": {
        "colab": {
          "base_uri": "https://localhost:8080/",
          "height": 284
        },
        "id": "RsSH0fDFJNzE",
        "outputId": "8f0ba7d1-8347-49b9-927a-562a8e0cafc7"
      },
      "execution_count": null,
      "outputs": [
        {
          "output_type": "execute_result",
          "data": {
            "text/plain": [
              "<function matplotlib.pyplot.show(*args, **kw)>"
            ]
          },
          "metadata": {},
          "execution_count": 115
        },
        {
          "output_type": "display_data",
          "data": {
            "text/plain": [
              "<Figure size 432x288 with 1 Axes>"
            ],
            "image/png": "[encoded data removed]"
          },
          "metadata": {
            "needs_background": "light"
          }
        }
      ]
    },
    {
      "cell_type": "code",
      "source": [
        "import matplotlib.pyplot as plt\n",
        "import numpy as np\n",
        "\n",
        "y = np.random.rand(3,4)\n",
        "plt.bar(x + 0, y[0])\n",
        "plt.bar(x + 0.25, y[1] )\n",
        "plt.bar(x + 0.5, y[2] )"
      ],
      "metadata": {
        "colab": {
          "base_uri": "https://localhost:8080/",
          "height": 283
        },
        "id": "1O_-7tocJ39D",
        "outputId": "e353f336-bf82-43d4-f81d-5b53d62f56df"
      },
      "execution_count": null,
      "outputs": [
        {
          "output_type": "execute_result",
          "data": {
            "text/plain": [
              "<BarContainer object of 4 artists>"
            ]
          },
          "metadata": {},
          "execution_count": 117
        },
        {
          "output_type": "display_data",
          "data": {
            "text/plain": [
              "<Figure size 432x288 with 1 Axes>"
            ],
            "image/png": "[encoded data removed]"
          },
          "metadata": {
            "needs_background": "light"
          }
        }
      ]
    },
    {
      "cell_type": "code",
      "source": [
        "import matplotlib.pyplot as plt\n",
        "import numpy as np\n",
        "x = np.arange(4)\n",
        "y = np.random.rand(3,4)\n",
        "plt.barh(x,y[0])\n",
        "plt.barh(x,y[1])\n",
        "plt.barh(x,y[2])\n",
        "plt.show()"
      ],
      "metadata": {
        "colab": {
          "base_uri": "https://localhost:8080/",
          "height": 265
        },
        "id": "6OXYC9ZcKfdd",
        "outputId": "376abc38-dfaa-4e1f-9da0-e57087ba6581"
      },
      "execution_count": null,
      "outputs": [
        {
          "output_type": "display_data",
          "data": {
            "text/plain": [
              "<Figure size 432x288 with 1 Axes>"
            ],
            "image/png": "[encoded data removed]"
          },
          "metadata": {
            "needs_background": "light"
          }
        }
      ]
    },
    {
      "cell_type": "code",
      "source": [
        "import matplotlib.pyplot as plt\n",
        "import numpy as np\n",
        "\n",
        "N = 2000\n",
        "x = np.random.rand(N)\n",
        "y = np.random.rand(N)\n",
        "colors = np.random.rand(N)\n",
        "size = 30\n",
        "plt.scatter(x,y,s = size,c = colors ,alpha = 1)\n",
        "plt.show"
      ],
      "metadata": {
        "id": "sJjIupXaLjk9"
      },
      "execution_count": null,
      "outputs": []
    },
    {
      "cell_type": "code",
      "source": [
        "pip install -U scikit-fuzzy"
      ],
      "metadata": {
        "id": "5aEWxb4mL75R"
      },
      "execution_count": null,
      "outputs": []
    },
    {
      "cell_type": "code",
      "source": [
        "pip install -U scikit-fuzzy"
      ],
      "metadata": {
        "colab": {
          "base_uri": "https://localhost:8080/"
        },
        "id": "Xqn8xyUUxSho",
        "outputId": "6dffc301-de5e-4d91-d5fa-cf47d6dba4c7"
      },
      "execution_count": null,
      "outputs": [
        {
          "output_type": "stream",
          "name": "stdout",
          "text": [
            "Looking in indexes: https://pypi.org/simple, https://us-python.pkg.dev/colab-wheels/public/simple/\n",
            "Collecting scikit-fuzzy\n",
            "  Downloading scikit-fuzzy-0.4.2.tar.gz (993 kB)\n",
            "\u001b[K     |████████████████████████████████| 993 kB 33.4 MB/s \n",
            "\u001b[?25hRequirement already satisfied: numpy>=1.6.0 in /usr/local/lib/python3.7/dist-packages (from scikit-fuzzy) (1.21.6)\n",
            "Requirement already satisfied: scipy>=0.9.0 in /usr/local/lib/python3.7/dist-packages (from scikit-fuzzy) (1.7.3)\n",
            "Requirement already satisfied: networkx>=1.9.0 in /usr/local/lib/python3.7/dist-packages (from scikit-fuzzy) (2.6.3)\n",
            "Building wheels for collected packages: scikit-fuzzy\n",
            "  Building wheel for scikit-fuzzy (setup.py) ... \u001b[?25l\u001b[?25hdone\n",
            "  Created wheel for scikit-fuzzy: filename=scikit_fuzzy-0.4.2-py3-none-any.whl size=894089 sha256=d07ced6b948759e01ab1bc70876da435e3211ff612967b03092201d6f1bb539a\n",
            "  Stored in directory: /root/.cache/pip/wheels/d5/74/fc/38588a3d2e3f34f74588e6daa3aa5b0a322bd6f9420a707131\n",
            "Successfully built scikit-fuzzy\n",
            "Installing collected packages: scikit-fuzzy\n",
            "Successfully installed scikit-fuzzy-0.4.2\n"
          ]
        }
      ]
    },
    {
      "cell_type": "code",
      "source": [
        "import skfuzzy as fuzz\n",
        "import numpy as np\n",
        "x = np.arange(11)\n",
        "mfx = fuzz.trimf(0,5,10)\n"
      ],
      "metadata": {
        "id": "ghUeyJzPzE-r"
      },
      "execution_count": null,
      "outputs": []
    },
    {
      "cell_type": "code",
      "source": [
        "import skfuzzy as fuzz\n",
        "import numpy as np\n",
        "from skfuzzy import control as cl\n",
        "\n",
        "food = cl.Antecedent(np.arange(0,11,1),'food')\n",
        "service = cl.Antecedent(np.arange(0,11,1),'service')\n",
        "tip = cl.Consequent(np.arange(10,26,1),'tip')\n",
        "\n",
        "rule1 = cl.Rule(food['poor'] | service['poor'],tip['less'])\n",
        "rule2 = cl.Rule(food['poor']| service['avg'],tip['less'])\n",
        "rule3 = cl.Rule(food['poor']| service['much'],tip['less'])\n",
        "rule4 = cl.Rule(food['avg']| service['poor'],tip['avg'])\n",
        "rule5 = cl.Rule(food['avg']| service['avg'],tip['avg'])\n",
        "rule6 = cl.Rule(food['avg']| service['much'],tip['avg'])\n",
        "rule7 = cl.Rule(food['much'] | service['poor'],tip['much'])\n",
        "rule8 = cl.Rule(food['much'] | service['avg'],tip['much'])\n",
        "rule9 = cl.Rule(food['much'] | service['much'],tip['much'])\n",
        "\n",
        "food['poor'] = fuzz.trimf(food.universe,[0,0,5])\n",
        "food['avg'] = fuzz.trimf(food.universe,[0,5,10])\n",
        "food['much'] = fuzz.trimf(food.universe,[5,10,10])\n",
        "\n",
        "service['poor'] = fuzz.trimf(service.universe,[0,0,5])\n",
        "service['avg'] = fuzz.trimf(service.universe,[0,5,10])\n",
        "service['much'] = fuzz.trimf(service.universe,[5,10,10])\n",
        "\n",
        "tip['poor'] = fuzz.trimf(tip.universe,[10,14,18])\n",
        "tip['avg'] = fuzz.trimf(tip.universe,[14,18,22])\n",
        "tip['much'] = fuzz.trimf(tip.universe,[18,22,25])\n",
        "\n",
        "food.view()\n",
        "service.view()\n",
        "tip.view()\n"
      ],
      "metadata": {
        "colab": {
          "base_uri": "https://localhost:8080/",
          "height": 398
        },
        "id": "W56e3VWK2u81",
        "outputId": "f80f17e4-784a-4e3a-9654-cbec418cbfd0"
      },
      "execution_count": null,
      "outputs": [
        {
          "output_type": "error",
          "ename": "ValueError",
          "evalue": "ignored",
          "traceback": [
            "\u001b[0;31m---------------------------------------------------------------------------\u001b[0m",
            "\u001b[0;31mValueError\u001b[0m                                Traceback (most recent call last)",
            "\u001b[0;32m<ipython-input-20-a1553eb5f899>\u001b[0m in \u001b[0;36m<module>\u001b[0;34m\u001b[0m\n\u001b[1;32m      7\u001b[0m \u001b[0mtip\u001b[0m \u001b[0;34m=\u001b[0m \u001b[0mcl\u001b[0m\u001b[0;34m.\u001b[0m\u001b[0mConsequent\u001b[0m\u001b[0;34m(\u001b[0m\u001b[0mnp\u001b[0m\u001b[0;34m.\u001b[0m\u001b[0marange\u001b[0m\u001b[0;34m(\u001b[0m\u001b[0;36m10\u001b[0m\u001b[0;34m,\u001b[0m\u001b[0;36m26\u001b[0m\u001b[0;34m,\u001b[0m\u001b[0;36m1\u001b[0m\u001b[0;34m)\u001b[0m\u001b[0;34m,\u001b[0m\u001b[0;34m'tip'\u001b[0m\u001b[0;34m)\u001b[0m\u001b[0;34m\u001b[0m\u001b[0;34m\u001b[0m\u001b[0m\n\u001b[1;32m      8\u001b[0m \u001b[0;34m\u001b[0m\u001b[0m\n\u001b[0;32m----> 9\u001b[0;31m \u001b[0mrule1\u001b[0m \u001b[0;34m=\u001b[0m \u001b[0mcl\u001b[0m\u001b[0;34m.\u001b[0m\u001b[0mRule\u001b[0m\u001b[0;34m(\u001b[0m\u001b[0mfood\u001b[0m\u001b[0;34m[\u001b[0m\u001b[0;34m'poor'\u001b[0m\u001b[0;34m]\u001b[0m \u001b[0;34m|\u001b[0m \u001b[0mservice\u001b[0m\u001b[0;34m[\u001b[0m\u001b[0;34m'poor'\u001b[0m\u001b[0;34m]\u001b[0m\u001b[0;34m,\u001b[0m\u001b[0mtip\u001b[0m\u001b[0;34m[\u001b[0m\u001b[0;34m'less'\u001b[0m\u001b[0;34m]\u001b[0m\u001b[0;34m)\u001b[0m\u001b[0;34m\u001b[0m\u001b[0;34m\u001b[0m\u001b[0m\n\u001b[0m\u001b[1;32m     10\u001b[0m \u001b[0mrule2\u001b[0m \u001b[0;34m=\u001b[0m \u001b[0mcl\u001b[0m\u001b[0;34m.\u001b[0m\u001b[0mRule\u001b[0m\u001b[0;34m(\u001b[0m\u001b[0mfood\u001b[0m\u001b[0;34m[\u001b[0m\u001b[0;34m'poor'\u001b[0m\u001b[0;34m]\u001b[0m\u001b[0;34m|\u001b[0m \u001b[0mservice\u001b[0m\u001b[0;34m[\u001b[0m\u001b[0;34m'avg'\u001b[0m\u001b[0;34m]\u001b[0m\u001b[0;34m,\u001b[0m\u001b[0mtip\u001b[0m\u001b[0;34m[\u001b[0m\u001b[0;34m'less'\u001b[0m\u001b[0;34m]\u001b[0m\u001b[0;34m)\u001b[0m\u001b[0;34m\u001b[0m\u001b[0;34m\u001b[0m\u001b[0m\n\u001b[1;32m     11\u001b[0m \u001b[0mrule3\u001b[0m \u001b[0;34m=\u001b[0m \u001b[0mcl\u001b[0m\u001b[0;34m.\u001b[0m\u001b[0mRule\u001b[0m\u001b[0;34m(\u001b[0m\u001b[0mfood\u001b[0m\u001b[0;34m[\u001b[0m\u001b[0;34m'poor'\u001b[0m\u001b[0;34m]\u001b[0m\u001b[0;34m|\u001b[0m \u001b[0mservice\u001b[0m\u001b[0;34m[\u001b[0m\u001b[0;34m'much'\u001b[0m\u001b[0;34m]\u001b[0m\u001b[0;34m,\u001b[0m\u001b[0mtip\u001b[0m\u001b[0;34m[\u001b[0m\u001b[0;34m'less'\u001b[0m\u001b[0;34m]\u001b[0m\u001b[0;34m)\u001b[0m\u001b[0;34m\u001b[0m\u001b[0;34m\u001b[0m\u001b[0m\n",
            "\u001b[0;32m/usr/local/lib/python3.7/dist-packages/skfuzzy/control/fuzzyvariable.py\u001b[0m in \u001b[0;36m__getitem__\u001b[0;34m(self, key)\u001b[0m\n\u001b[1;32m     83\u001b[0m                              \u001b[0;34m\"{1} {2}.\\n\"\u001b[0m\u001b[0;34m\u001b[0m\u001b[0;34m\u001b[0m\u001b[0m\n\u001b[1;32m     84\u001b[0m                              \"Available options: {3}\".format(\n\u001b[0;32m---> 85\u001b[0;31m                                  key, self.__name__, self.label, options))\n\u001b[0m\u001b[1;32m     86\u001b[0m \u001b[0;34m\u001b[0m\u001b[0m\n\u001b[1;32m     87\u001b[0m     \u001b[0;32mdef\u001b[0m \u001b[0m__setitem__\u001b[0m\u001b[0;34m(\u001b[0m\u001b[0mself\u001b[0m\u001b[0;34m,\u001b[0m \u001b[0mkey\u001b[0m\u001b[0;34m,\u001b[0m \u001b[0mitem\u001b[0m\u001b[0;34m)\u001b[0m\u001b[0;34m:\u001b[0m\u001b[0;34m\u001b[0m\u001b[0;34m\u001b[0m\u001b[0m\n",
            "\u001b[0;31mValueError\u001b[0m: Membership function 'poor' does not exist for Antecedent food.\nAvailable options: "
          ]
        }
      ]
    },
    {
      "cell_type": "code",
      "source": [
        "import skfuzzy as fuzz\n",
        "import numpy as np\n",
        "from skfuzzy import control as cl\n",
        "import matplotlib.pyplot as plt\n",
        "\n",
        "\n",
        "food = cl.Antecedent(np.arange(0,11,1),'food')\n",
        "service = cl.Antecedent(np.arange(0,11,1),'service')\n",
        "tip = cl.Consequent(np.arange(10,26,1),'tip')\n",
        "\n",
        "food['poor'] = fuzz.trimf(food.universe,[0,0,5])\n",
        "food['avg'] = fuzz.trimf(food.universe,[0,5,10])\n",
        "food['much'] = fuzz.trimf(food.universe,[5,10,10])\n",
        "\n",
        "service['poor'] = fuzz.trimf(service.universe,[0,0,5])\n",
        "service['avg'] = fuzz.trimf(service.universe,[0,5,10])\n",
        "service['much'] = fuzz.trimf(service.universe,[5,10,10])\n",
        "\n",
        "tip['poor'] = fuzz.trimf(tip.universe,[10,14,18])\n",
        "tip['avg'] = fuzz.trimf(tip.universe,[14,18,22])\n",
        "tip['much'] = fuzz.trimf(tip.universe,[18,22,25])\n",
        "\n",
        "rule1 = cl.Rule(food['poor'] & service['poor'],tip['poor'])\n",
        "rule2 = cl.Rule(food['poor']& service['avg'],tip['poor'])\n",
        "rule3 = cl.Rule(food['poor']& service['much'],tip['poor'])\n",
        "rule4 = cl.Rule(food['avg']& service['poor'],tip['avg'])\n",
        "rule5 = cl.Rule(food['avg']& service['avg'],tip['avg'])\n",
        "rule6 = cl.Rule(food['avg']& service['much'],tip['avg'])\n",
        "rule7 = cl.Rule(food['much'] & service['poor'],tip['much'])\n",
        "rule8 = cl.Rule(food['much'] & service['avg'],tip['much'])\n",
        "rule9 = cl.Rule(food['much'] & service['much'],tip['much'])\n",
        "\n",
        "tipping_cl = cl.ControlSystem([rule1,rule2,rule3,rule4,rule5,rule6,rule7,rule8,rule9])\n",
        "\n",
        "tipping = cl.ControlSystemSimulation(tipping_cl)\n",
        "\n",
        "tipping.input('food') = 6, 2\n",
        "tipping.input('service') = 3, 5\n",
        "tipping.compute()\n",
        "print(tipping.output['tip'])\n",
        "tip.view(sim = tipping)\n",
        "\n",
        "\n"
      ],
      "metadata": {
        "id": "PLWNq7zY6R6V"
      },
      "execution_count": null,
      "outputs": []
    },
    {
      "cell_type": "code",
      "source": [
        "import skfuzzy as fuzz\n",
        "import numpy as np\n",
        "from skfuzzy import control as cl\n",
        "import matplotlib.pyplot as plt\n",
        "\n",
        "luong_gao = int(input('Nhập lượng gạo: '))\n",
        "thoi_gian = int(input('Nhập thời gian nấu: '))\n",
        "\n",
        "\n",
        "rice = cl.Antecedent(np.arange(100,1100,100),'rice')\n",
        "time = cl.Antecedent(np.arange(10,130,10),'time')\n",
        "power = cl.Consequent(np.arange(0,110,10),'power')\n",
        "\n",
        "rice['Rất ít'] = fuzz.trimf(rice.universe,[100,100,200])\n",
        "rice['Ít'] = fuzz.trimf(rice.universe,[100,200,400])\n",
        "rice['Trung bình'] = fuzz.trimf(rice.universe,[200,500,800])\n",
        "rice['Nhiều'] = fuzz.trimf(rice.universe,[600,800,1000])\n",
        "rice['Rất nhiều'] = fuzz.trimf(rice.universe,[800,1000,1000])\n",
        "\n",
        "time['Ít'] = fuzz.trimf(time.universe,[10,10,20])\n",
        "time['Rất ít'] = fuzz.trimf(time.universe,[10,20,30])\n",
        "time['Trung bình'] = fuzz.trimf(time.universe,[20,60,100])\n",
        "time['Nhiều'] = fuzz.trimf(time.universe,[80,100,120])\n",
        "time['Rất nhiều'] = fuzz.trimf(time.universe,[100,120,120])\n",
        "\n",
        "power['Rất ít'] = fuzz.trimf(power.universe,[0,0,20])\n",
        "power['Ít'] = fuzz.trimf(power.universe,[0,20,40])\n",
        "power['Trung bình'] = fuzz.trimf(power.universe,[40,60,80])\n",
        "power['Nhiều '] = fuzz.trimf(power.universe,[80,90,100])\n",
        "power['Rất nhiều'] = fuzz.trimf(power.universe,[90,100,100])\n",
        "\n",
        "names_rice = ['Rất ít', 'Ít', 'Trung bình', 'Nhiều', 'Rất nhiều']\n",
        "names_time = ['Rất ít', 'Ít', 'Trung bình', 'Nhiều', 'Rất nhiều']\n",
        "names_heating = ['Rất ít', 'Ít', 'Trung bình', 'Nhiều', 'Rất nhiều']\n",
        "\n",
        "rice.automf(names = names_rice)\n",
        "time.automf(names = names_time)\n",
        "power.automf(names = names_heating)\n",
        "\n",
        "rule1 = cl.Rule(rice['Rất ít'] & time['Rất ít'], power['Nhiều'])\n",
        "rule2 = cl.Rule(rice['Rất ít'] & time['Ít'], power['Nhiều'])\n",
        "rule3 = cl.Rule(rice['Rất ít'] & time['Trung bình'], power['Trung bình'])\n",
        "rule4 = cl.Rule(rice['Rất ít'] & time['Nhiều'], power['Ít'])\n",
        "rule5 = cl.Rule(rice['Rất ít'] & time['Rất nhiều'], power['Rất ít'])\n",
        "\n",
        "rule6 = cl.Rule(rice['Ít'] & time['Rất ít'], power['Nhiều'])\n",
        "rule7 = cl.Rule(rice['Ít'] & time['Ít'], power['Nhiều'])\n",
        "rule8 = cl.Rule(rice['Ít'] & time['Trung bình'], power['Trung bình'])\n",
        "rule9 = cl.Rule(rice['Ít'] & time['Nhiều'], power['Ít'])\n",
        "rule10 = cl.Rule(rice['Ít'] & time['Rất nhiều'], power['Rất ít'])\n",
        "\n",
        "rule11 = cl.Rule(rice['Trung bình'] & time['Rất ít'], power['Rất nhiều'])\n",
        "rule12 = cl.Rule(rice['Trung bình'] & time['Ít'], power['Nhiều'])\n",
        "rule13 = cl.Rule(rice['Trung bình'] & time['Trung bình'], power['Trung bình'])\n",
        "rule14 = cl.Rule(rice['Trung bình'] & time['Nhiều'], power['Ít'])\n",
        "rule15 = cl.Rule(rice['Trung bình'] & time['Rất nhiều'], power['Rất ít'])\n",
        "\n",
        "rule16 = cl.Rule(rice['Nhiều'] & time['Rất ít'], power['Rất nhiều'])\n",
        "rule17 = cl.Rule(rice['Nhiều'] & time['Ít'], power['Rất nhiều'])\n",
        "rule18 = cl.Rule(rice['Nhiều'] & time['Trung bình'], power['Trung bình'])\n",
        "rule19 = cl.Rule(rice['Nhiều'] & time['Nhiều'], power['Ít'])\n",
        "rule20 = cl.Rule(rice['Nhiều'] & time['Rất nhiều'], power['Rất ít'])\n",
        "\n",
        "rule21 = cl.Rule(rice['Rất nhiều'] & time['Rất ít'], power['Rất nhiều'])\n",
        "rule22 = cl.Rule(rice['Rất nhiều'] & time['Ít'], power['Rất nhiều'])\n",
        "rule23 = cl.Rule(rice['Rất nhiều'] & time['Trung bình'], power['Nhiều'])\n",
        "rule24 = cl.Rule(rice['Rất nhiều'] & time['Nhiều'], power['Trung bình'])\n",
        "rule25 = cl.Rule(rice['Rất nhiều'] & time['Rất nhiều'], power['Ít'])\n",
        "\n",
        "system_cl = cl.ControlSystem(rules = [rule1,rule2,rule3,rule4,rule5,rule6,rule7,rule8,rule9,rule10,rule11,rule12,rule13,rule14,rule15, rule16, rule17, rule18, rule19, rule20, rule21, rule22, rule23, rule24, rule25])\n",
        "system = cl.ControlSystemSimulation(system_cl)\n",
        "system.input['rice']=luong_gao\n",
        "system.input['time']=thoi_gian\n",
        "system.compute()\n",
        "print('Công suất cần thiết là : ' + \"{:.2f}\".format(system.output['power'])+'w')\n",
        "power.view(sim = system)\n",
        "\n",
        "power.view()\n"
      ],
      "metadata": {
        "colab": {
          "base_uri": "https://localhost:8080/",
          "height": 601
        },
        "id": "klKhfCIoCECP",
        "outputId": "54d9e2bd-402d-4af6-ad38-0a10f401746f"
      },
      "execution_count": null,
      "outputs": [
        {
          "output_type": "stream",
          "name": "stdout",
          "text": [
            "Nhập lượng gạo: 500\n",
            "Nhập thời gian nấu: 20\n",
            "Công suất cần thiết là : 80.11w\n"
          ]
        },
        {
          "output_type": "display_data",
          "data": {
            "text/plain": [
              "<Figure size 432x288 with 1 Axes>"
            ],
            "image/png": "[encoded data removed]"
          },
          "metadata": {
            "needs_background": "light"
          }
        },
        {
          "output_type": "display_data",
          "data": {
            "text/plain": [
              "<Figure size 432x288 with 1 Axes>"
            ],
            "image/png": "[encoded data removed]"
          },
          "metadata": {
            "needs_background": "light"
          }
        }
      ]
    },
    {
      "cell_type": "code",
      "source": [],
      "metadata": {
        "id": "cbhYWUrd6Z5Y"
      },
      "execution_count": null,
      "outputs": []
    }
  ]
}